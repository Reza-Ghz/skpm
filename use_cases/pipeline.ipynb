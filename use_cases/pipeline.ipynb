{
 "cells": [
  {
   "cell_type": "code",
   "execution_count": null,
   "metadata": {},
   "outputs": [],
   "source": [
    "import os\n",
    "os.chdir('..')"
   ]
  },
  {
   "cell_type": "markdown",
   "metadata": {},
   "source": [
    "# Pipeline using SKPM event feature extraction\n",
    "\n",
    "Let us build a basic pipeline for\n",
    "\n",
    "- extracting timesamp-related and resource-related features (*SKPM*)\n",
    "- one-hot encoding activities (*sklearn*)\n",
    "- predicting the remaining time\n",
    "\n",
    "In this example we are using the `BPI20 - RequestForPayment` event log, which has already been splitted into train and test sets."
   ]
  },
  {
   "cell_type": "code",
   "execution_count": null,
   "metadata": {},
   "outputs": [],
   "source": [
    "import pandas as pd\n",
    "from sklearn import set_config\n",
    "\n",
    "set_config(transform_output=\"pandas\")\n",
    "from sklearn.compose import ColumnTransformer\n",
    "from sklearn.discriminant_analysis import StandardScaler\n",
    "from sklearn.ensemble import RandomForestRegressor, RandomForestClassifier\n",
    "from sklearn.pipeline import Pipeline\n",
    "from sklearn.preprocessing import OneHotEncoder\n",
    "\n",
    "from skpm.encoding.trace import TraceAggregator\n",
    "from skpm.event_feature_extraction import TimestampExtractor, ResourcePoolExtractor\n",
    "\n",
    "\n",
    "def read_log(path):\n",
    "    log = pd.read_csv(path)\n",
    "    log = log.rename(\n",
    "        columns={\n",
    "            \"case:concept:name\": \"case_id\",\n",
    "            \"time:timestamp\": \"timestamp\",\n",
    "            \"concept:name\": \"activity\",\n",
    "            \"org:resource\": \"resource\",\n",
    "            \"remain_time\": \"remaining_time\"\n",
    "        }\n",
    "    )\n",
    "    \n",
    "    log = log.loc[:, [\"case_id\", \"activity\", \"timestamp\", \"resource\", \"remaining_time\"]]\n",
    "    log[\"case_id\"] = log[\"case_id\"].astype(\"category\")\n",
    "    log.dropna(inplace=True)\n",
    "    return log\n",
    "\n",
    "\n",
    "train = read_log(\"data/train.csv\")\n",
    "test = read_log(\"data/test.csv\")\n",
    "\n",
    "target = \"remaining_time\"\n",
    "X_train = train.drop(target, axis=1)\n",
    "y_train = train[target]\n",
    "X_test = test.drop(target, axis=1)\n",
    "y_test = test[target]"
   ]
  },
  {
   "cell_type": "markdown",
   "metadata": {},
   "source": [
    "## Define the time feature extraction pipeline"
   ]
  },
  {
   "cell_type": "code",
   "execution_count": null,
   "metadata": {},
   "outputs": [],
   "source": [
    "time_transformer = Pipeline(\n",
    "    steps=[\n",
    "        (\"time\", TimestampExtractor(case_col=\"case_id\", time_col=\"timestamp\", features=[\"execution_time\", \"accumulated_time\"])),\n",
    "        (\"scale\", StandardScaler()),\n",
    "    ]\n",
    ")"
   ]
  },
  {
   "cell_type": "markdown",
   "metadata": {},
   "source": [
    "## One-hot encode for activities"
   ]
  },
  {
   "cell_type": "code",
   "execution_count": null,
   "metadata": {},
   "outputs": [],
   "source": [
    "cat_transformer = Pipeline(\n",
    "    steps=[(\"encoder\", OneHotEncoder(sparse_output=False, handle_unknown=\"ignore\"))]\n",
    ")"
   ]
  },
  {
   "cell_type": "markdown",
   "metadata": {},
   "source": [
    "## Putting everything together as a single preprocessing step"
   ]
  },
  {
   "cell_type": "code",
   "execution_count": null,
   "metadata": {},
   "outputs": [],
   "source": [
    "preprocessor = ColumnTransformer(\n",
    "    transformers=[\n",
    "        (\"oh\", cat_transformer, [\"activity\"]),\n",
    "        (\"time\", time_transformer, [\"case_id\", \"timestamp\"]),\n",
    "        (\"resource\", ResourcePoolExtractor(), [\"activity\", \"resource\"]),\n",
    "        (\"case_id\", \"passthrough\", [\"case_id\"]), \n",
    "    ],\n",
    "    remainder=\"drop\",\n",
    ").set_output(transform=\"pandas\")"
   ]
  },
  {
   "cell_type": "markdown",
   "metadata": {},
   "source": [
    "## Regression pipeline\n",
    "\n",
    "NOTE: we have a concept drift issue since the activity `'Request For Payment FINAL_APPROVED by BUDGET OWNER'` in the test set has never been seen by the train set. SKPM throws a warning and replace it by a specical token `UNK`."
   ]
  },
  {
   "cell_type": "code",
   "execution_count": null,
   "metadata": {},
   "outputs": [],
   "source": [
    "clf = Pipeline(\n",
    "    steps=[\n",
    "        (\"preprocessor\", preprocessor),\n",
    "        (\"aggregator\", TraceAggregator(case_col=\"case_id\", method=\"mean\")),\n",
    "        (\"classifier\", RandomForestRegressor(n_estimators=10, random_state=13, n_jobs=-1))\n",
    "    ]\n",
    ").set_output(transform=\"pandas\")\n",
    "\n",
    "clf.fit(X_train, y_train)\n",
    "print(clf.score(X_test, y_test))"
   ]
  },
  {
   "cell_type": "markdown",
   "metadata": {},
   "source": [
    "## Classification pipeline\n",
    "\n",
    "Next activity prediction"
   ]
  },
  {
   "cell_type": "code",
   "execution_count": null,
   "metadata": {},
   "outputs": [],
   "source": [
    "clf = Pipeline(\n",
    "    steps=[\n",
    "        (\"preprocessor\", preprocessor),\n",
    "        (\"aggregator\", TraceAggregator(case_col=\"case_id\", method=\"mean\")),\n",
    "        (\"classifier\", RandomForestClassifier(n_estimators=10, random_state=13, n_jobs=-1))\n",
    "    ]\n",
    ").set_output(transform=\"pandas\")\n",
    "\n",
    "y_train = X_train.activity.shift(-1, fill_value=\"EOS\")\n",
    "y_test = X_test.activity.shift(-1, fill_value=\"EOS\")\n",
    "clf.fit(X_train, y_train)\n",
    "print(clf.score(X_test, y_test))"
   ]
  }
 ],
 "metadata": {
  "kernelspec": {
   "display_name": "skpm",
   "language": "python",
   "name": "python3"
  },
  "language_info": {
   "codemirror_mode": {
    "name": "ipython",
    "version": 3
   },
   "file_extension": ".py",
   "mimetype": "text/x-python",
   "name": "python",
   "nbconvert_exporter": "python",
   "pygments_lexer": "ipython3",
   "version": "3.10.12"
  },
  "orig_nbformat": 4
 },
 "nbformat": 4,
 "nbformat_minor": 2
}
