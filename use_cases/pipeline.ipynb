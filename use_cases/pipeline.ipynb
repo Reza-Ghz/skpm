{
 "cells": [
  {
   "cell_type": "code",
   "execution_count": 1,
   "metadata": {},
   "outputs": [],
   "source": [
    "import os\n",
    "os.chdir('..')"
   ]
  },
  {
   "cell_type": "markdown",
   "metadata": {},
   "source": [
    "# Pipeline using SKPM event feature extraction\n",
    "\n",
    "Let us build a basic pipeline for\n",
    "\n",
    "- extracting timesamp-related features (*SKPM*)\n",
    "- one-hot encoding activities (*sklearn*)\n",
    "- predicting which resource will execute the next event\n",
    "\n",
    "In this example we are using the `BPI20 - RequestForPayment` event log, which has already been splitted into train and test sets."
   ]
  },
  {
   "cell_type": "code",
   "execution_count": 2,
   "metadata": {},
   "outputs": [],
   "source": [
    "import pandas as pd\n",
    "from sklearn import set_config\n",
    "set_config(transform_output=\"pandas\")\n",
    "from sklearn.compose import ColumnTransformer\n",
    "from sklearn.discriminant_analysis import StandardScaler\n",
    "from sklearn.ensemble import RandomForestClassifier\n",
    "from sklearn.pipeline import Pipeline\n",
    "from sklearn.preprocessing import OneHotEncoder\n",
    "\n",
    "from skpm.encoding.trace import TraceAggregator\n",
    "from skpm.event_feature_extraction import TimestampExtractor\n",
    "\n",
    "\n",
    "def read_log(path):\n",
    "    log = pd.read_csv(path)\n",
    "    log = log.rename(\n",
    "        columns={\n",
    "            \"case:concept:name\": \"case_id\",\n",
    "            \"time:timestamp\": \"timestamp\",\n",
    "            \"concept:name\": \"activity\",\n",
    "            \"org:resource\": \"resource\",\n",
    "        }\n",
    "    )\n",
    "    log = log.loc[:, [\"case_id\", \"activity\", \"timestamp\", \"resource\"]]\n",
    "    log[\"case_id\"] = log[\"case_id\"].astype(\"category\")\n",
    "    return log\n",
    "\n",
    "train = read_log(\"data/train.csv\")\n",
    "test = read_log(\"data/test.csv\")\n",
    "\n",
    "X_train = train.drop(\"resource\", axis=1)\n",
    "y_train = train[\"resource\"]\n",
    "X_test = test.drop(\"resource\", axis=1)\n",
    "y_test = test[\"resource\"]\n"
   ]
  },
  {
   "cell_type": "markdown",
   "metadata": {},
   "source": [
    "## Define the time feature extraction pipeline"
   ]
  },
  {
   "cell_type": "code",
   "execution_count": 3,
   "metadata": {},
   "outputs": [],
   "source": [
    "time_transformer = Pipeline(\n",
    "    steps=[\n",
    "        (\"time\", TimestampExtractor(case_col=\"case_id\", time_col=\"timestamp\", features=\"all\")),\n",
    "        (\"scale\", StandardScaler()),\n",
    "    ]\n",
    ")"
   ]
  },
  {
   "cell_type": "markdown",
   "metadata": {},
   "source": [
    "## One-hot encode for activities"
   ]
  },
  {
   "cell_type": "code",
   "execution_count": 4,
   "metadata": {},
   "outputs": [],
   "source": [
    "cat_transformer = Pipeline(\n",
    "    steps=[(\"encoder\", OneHotEncoder(sparse_output=False, handle_unknown=\"ignore\"))]\n",
    ")"
   ]
  },
  {
   "cell_type": "markdown",
   "metadata": {},
   "source": [
    "## Putting everything together as a single preprocessing step"
   ]
  },
  {
   "cell_type": "code",
   "execution_count": 5,
   "metadata": {},
   "outputs": [],
   "source": [
    "preprocessor = ColumnTransformer(\n",
    "    transformers=[\n",
    "        (\"oh\", cat_transformer, [\"activity\"]),\n",
    "        (\"time\", time_transformer, [\"case_id\", \"timestamp\"]),\n",
    "        (\"case_id\", \"passthrough\", [\"case_id\"]), \n",
    "    ],\n",
    "    remainder=\"passthrough\",\n",
    ").set_output(transform=\"pandas\")"
   ]
  },
  {
   "cell_type": "markdown",
   "metadata": {},
   "source": [
    "## Classification pipeline"
   ]
  },
  {
   "cell_type": "code",
   "execution_count": 6,
   "metadata": {},
   "outputs": [],
   "source": [
    "clf = Pipeline(\n",
    "    steps=[\n",
    "        (\"preprocessor\", preprocessor),\n",
    "        (\"aggregator\", TraceAggregator(case_col=\"case_id\", method=\"mean\")),\n",
    "        (\"classifier\", RandomForestClassifier(n_jobs=-1))\n",
    "    ]\n",
    ").set_output(transform=\"pandas\")"
   ]
  },
  {
   "cell_type": "markdown",
   "metadata": {},
   "source": [
    "## Running pipeline\n",
    "\n",
    "**NOTE:** The sklearn `ColumnTransformer` always insert a prefix to mark the actual step of each outputed feature."
   ]
  },
  {
   "cell_type": "code",
   "execution_count": 7,
   "metadata": {},
   "outputs": [
    {
     "name": "stdout",
     "output_type": "stream",
     "text": [
      "0.6167013992259601\n"
     ]
    }
   ],
   "source": [
    "# print(preprocessor.fit_transform(X_train).columns)\n",
    "clf.fit(X_train, y_train)\n",
    "print(clf.score(X_test, y_test))"
   ]
  }
 ],
 "metadata": {
  "kernelspec": {
   "display_name": "skpm",
   "language": "python",
   "name": "python3"
  },
  "language_info": {
   "codemirror_mode": {
    "name": "ipython",
    "version": 3
   },
   "file_extension": ".py",
   "mimetype": "text/x-python",
   "name": "python",
   "nbconvert_exporter": "python",
   "pygments_lexer": "ipython3",
   "version": "3.10.12"
  },
  "orig_nbformat": 4
 },
 "nbformat": 4,
 "nbformat_minor": 2
}
