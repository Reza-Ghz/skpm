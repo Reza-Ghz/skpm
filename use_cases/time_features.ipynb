{
 "cells": [
  {
   "cell_type": "code",
   "execution_count": null,
   "metadata": {},
   "outputs": [],
   "source": [
    "import os\n",
    "os.chdir('..')"
   ]
  },
  {
   "cell_type": "markdown",
   "metadata": {},
   "source": [
    "# Usage of `TimestampExtractor`"
   ]
  },
  {
   "cell_type": "code",
   "execution_count": null,
   "metadata": {},
   "outputs": [],
   "source": [
    "import pandas as pd\n",
    "from sklearn.compose import ColumnTransformer\n",
    "from sklearn.discriminant_analysis import StandardScaler\n",
    "from sklearn.ensemble import RandomForestClassifier\n",
    "from sklearn.pipeline import Pipeline\n",
    "from sklearn.preprocessing import OneHotEncoder\n",
    "\n",
    "from skpm.encoding.trace import TraceAggregator\n",
    "from skpm.event_feature_extraction import TimestampExtractor\n",
    "\n",
    "\n",
    "def read_log(path):\n",
    "    log = pd.read_csv(path)\n",
    "    log = log.rename(\n",
    "        columns={\n",
    "            \"case:concept:name\": \"case_id\",\n",
    "            \"time:timestamp\": \"timestamp\",\n",
    "            \"concept:name\": \"activity\",\n",
    "            \"org:resource\": \"resource\",\n",
    "        }\n",
    "    )\n",
    "    log = log.loc[:, [\"case_id\", \"activity\", \"timestamp\", \"resource\"]]\n",
    "    log[\"case_id\"] = log[\"case_id\"].astype(\"category\")\n",
    "    return log\n",
    "\n",
    "train = read_log(\"data/train.csv\")"
   ]
  },
  {
   "cell_type": "markdown",
   "metadata": {},
   "source": [
    "There as basically three ways of using the method:\n",
    "\n",
    "- Default initialization\n",
    "  - it will return all the implemented features\n",
    "- Extracting one or a few features\n",
    "  - specifying which features you need \n",
    "  - parameter `features`\n",
    "- Setting output as pandas \n",
    "  - it makes it easier mainly for keeping track of `case_id` column"
   ]
  },
  {
   "cell_type": "code",
   "execution_count": null,
   "metadata": {},
   "outputs": [],
   "source": [
    "# default\n",
    "TimestampExtractor().fit_transform(train)"
   ]
  },
  {
   "cell_type": "code",
   "execution_count": null,
   "metadata": {},
   "outputs": [],
   "source": [
    "# specify features (str or list[str]) and setting output to pandas\n",
    "# TODO: when setting the output to pandas, the column names are not correct\n",
    "TimestampExtractor(features=\"accumulated_time\").set_output(transform=\"pandas\").fit_transform(train)"
   ]
  },
  {
   "cell_type": "code",
   "execution_count": null,
   "metadata": {},
   "outputs": [],
   "source": [
    "# pandas output and concating to original dataframe\n",
    "features = [\"accumulated_time\", \"execution_time\"]\n",
    "t = TimestampExtractor(features=features)\n",
    "train[features] = t.fit_transform(train)\n",
    "train.head()"
   ]
  }
 ],
 "metadata": {
  "kernelspec": {
   "display_name": "skpm",
   "language": "python",
   "name": "python3"
  },
  "language_info": {
   "codemirror_mode": {
    "name": "ipython",
    "version": 3
   },
   "file_extension": ".py",
   "mimetype": "text/x-python",
   "name": "python",
   "nbconvert_exporter": "python",
   "pygments_lexer": "ipython3",
   "version": "3.10.12"
  },
  "orig_nbformat": 4
 },
 "nbformat": 4,
 "nbformat_minor": 2
}
