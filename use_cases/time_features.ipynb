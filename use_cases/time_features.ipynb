{
 "cells": [
  {
   "cell_type": "code",
   "execution_count": 1,
   "metadata": {},
   "outputs": [],
   "source": [
    "import os\n",
    "os.chdir('..')"
   ]
  },
  {
   "cell_type": "markdown",
   "metadata": {},
   "source": [
    "# Usage of `TimestampExtractor`"
   ]
  },
  {
   "cell_type": "code",
   "execution_count": 2,
   "metadata": {},
   "outputs": [],
   "source": [
    "import pandas as pd\n",
    "from sklearn.compose import ColumnTransformer\n",
    "from sklearn.discriminant_analysis import StandardScaler\n",
    "from sklearn.ensemble import RandomForestClassifier\n",
    "from sklearn.pipeline import Pipeline\n",
    "from sklearn.preprocessing import OneHotEncoder\n",
    "\n",
    "from skpm.encoding.trace import TraceAggregator\n",
    "from skpm.event_feature_extraction import TimestampExtractor\n",
    "\n",
    "\n",
    "def read_log(path):\n",
    "    log = pd.read_csv(path)\n",
    "    log = log.rename(\n",
    "        columns={\n",
    "            \"case:concept:name\": \"case_id\",\n",
    "            \"time:timestamp\": \"timestamp\",\n",
    "            \"concept:name\": \"activity\",\n",
    "            \"org:resource\": \"resource\",\n",
    "        }\n",
    "    )\n",
    "    log = log.loc[:, [\"case_id\", \"activity\", \"timestamp\", \"resource\"]]\n",
    "    log[\"case_id\"] = log[\"case_id\"].astype(\"category\")\n",
    "    return log\n",
    "\n",
    "train = read_log(\"data/train.csv\")"
   ]
  },
  {
   "cell_type": "markdown",
   "metadata": {},
   "source": [
    "There as basically three ways of using the method:\n",
    "\n",
    "- Default initialization\n",
    "  - it will return all the implemented features\n",
    "- Extracting one or a few features\n",
    "  - specifying which features you need \n",
    "  - parameter `features`\n",
    "- Setting output as pandas \n",
    "  - it makes it easier mainly for keeping track of `case_id` column"
   ]
  },
  {
   "cell_type": "code",
   "execution_count": 3,
   "metadata": {},
   "outputs": [
    {
     "data": {
      "text/plain": [
       "array([[0.00000e+00, 0.00000e+00, 2.84444e+05, 3.42480e+04],\n",
       "       [5.40000e+01, 5.40000e+01, 2.84390e+05, 3.43020e+04],\n",
       "       [8.76750e+04, 8.76210e+04, 1.96769e+05, 3.55230e+04],\n",
       "       ...,\n",
       "       [3.10000e+01, 3.10000e+01, 6.68060e+04, 4.15800e+04],\n",
       "       [6.68370e+04, 6.68060e+04, 0.00000e+00, 2.19860e+04],\n",
       "       [0.00000e+00, 0.00000e+00, 0.00000e+00, 3.12940e+04]])"
      ]
     },
     "execution_count": 3,
     "metadata": {},
     "output_type": "execute_result"
    }
   ],
   "source": [
    "# default\n",
    "TimestampExtractor().fit_transform(train)"
   ]
  },
  {
   "cell_type": "code",
   "execution_count": 4,
   "metadata": {},
   "outputs": [
    {
     "data": {
      "text/html": [
       "<div>\n",
       "<style scoped>\n",
       "    .dataframe tbody tr th:only-of-type {\n",
       "        vertical-align: middle;\n",
       "    }\n",
       "\n",
       "    .dataframe tbody tr th {\n",
       "        vertical-align: top;\n",
       "    }\n",
       "\n",
       "    .dataframe thead th {\n",
       "        text-align: right;\n",
       "    }\n",
       "</style>\n",
       "<table border=\"1\" class=\"dataframe\">\n",
       "  <thead>\n",
       "    <tr style=\"text-align: right;\">\n",
       "      <th></th>\n",
       "      <th>timestampextractor0</th>\n",
       "    </tr>\n",
       "  </thead>\n",
       "  <tbody>\n",
       "    <tr>\n",
       "      <th>0</th>\n",
       "      <td>0.0</td>\n",
       "    </tr>\n",
       "    <tr>\n",
       "      <th>1</th>\n",
       "      <td>54.0</td>\n",
       "    </tr>\n",
       "    <tr>\n",
       "      <th>2</th>\n",
       "      <td>87675.0</td>\n",
       "    </tr>\n",
       "    <tr>\n",
       "      <th>3</th>\n",
       "      <td>284444.0</td>\n",
       "    </tr>\n",
       "    <tr>\n",
       "      <th>4</th>\n",
       "      <td>0.0</td>\n",
       "    </tr>\n",
       "    <tr>\n",
       "      <th>...</th>\n",
       "      <td>...</td>\n",
       "    </tr>\n",
       "    <tr>\n",
       "      <th>23290</th>\n",
       "      <td>76006.0</td>\n",
       "    </tr>\n",
       "    <tr>\n",
       "      <th>23291</th>\n",
       "      <td>0.0</td>\n",
       "    </tr>\n",
       "    <tr>\n",
       "      <th>23292</th>\n",
       "      <td>31.0</td>\n",
       "    </tr>\n",
       "    <tr>\n",
       "      <th>23293</th>\n",
       "      <td>66837.0</td>\n",
       "    </tr>\n",
       "    <tr>\n",
       "      <th>23294</th>\n",
       "      <td>0.0</td>\n",
       "    </tr>\n",
       "  </tbody>\n",
       "</table>\n",
       "<p>23295 rows × 1 columns</p>\n",
       "</div>"
      ],
      "text/plain": [
       "       timestampextractor0\n",
       "0                      0.0\n",
       "1                     54.0\n",
       "2                  87675.0\n",
       "3                 284444.0\n",
       "4                      0.0\n",
       "...                    ...\n",
       "23290              76006.0\n",
       "23291                  0.0\n",
       "23292                 31.0\n",
       "23293              66837.0\n",
       "23294                  0.0\n",
       "\n",
       "[23295 rows x 1 columns]"
      ]
     },
     "execution_count": 4,
     "metadata": {},
     "output_type": "execute_result"
    }
   ],
   "source": [
    "# specify features (str or list[str]) and setting output to pandas\n",
    "# TODO: when setting the output to pandas, the column names are not correct\n",
    "TimestampExtractor(features=\"accumulated_time\").set_output(transform=\"pandas\").fit_transform(train)"
   ]
  },
  {
   "cell_type": "code",
   "execution_count": 5,
   "metadata": {},
   "outputs": [
    {
     "data": {
      "text/html": [
       "<div>\n",
       "<style scoped>\n",
       "    .dataframe tbody tr th:only-of-type {\n",
       "        vertical-align: middle;\n",
       "    }\n",
       "\n",
       "    .dataframe tbody tr th {\n",
       "        vertical-align: top;\n",
       "    }\n",
       "\n",
       "    .dataframe thead th {\n",
       "        text-align: right;\n",
       "    }\n",
       "</style>\n",
       "<table border=\"1\" class=\"dataframe\">\n",
       "  <thead>\n",
       "    <tr style=\"text-align: right;\">\n",
       "      <th></th>\n",
       "      <th>case_id</th>\n",
       "      <th>activity</th>\n",
       "      <th>timestamp</th>\n",
       "      <th>resource</th>\n",
       "      <th>accumulated_time</th>\n",
       "      <th>execution_time</th>\n",
       "    </tr>\n",
       "  </thead>\n",
       "  <tbody>\n",
       "    <tr>\n",
       "      <th>0</th>\n",
       "      <td>request for payment 149290</td>\n",
       "      <td>Request For Payment SUBMITTED by EMPLOYEE</td>\n",
       "      <td>2017-01-09 09:30:48+00:00</td>\n",
       "      <td>STAFF MEMBER</td>\n",
       "      <td>0.0</td>\n",
       "      <td>0.0</td>\n",
       "    </tr>\n",
       "    <tr>\n",
       "      <th>1</th>\n",
       "      <td>request for payment 149290</td>\n",
       "      <td>Request For Payment FINAL_APPROVED by SUPERVISOR</td>\n",
       "      <td>2017-01-09 09:31:42+00:00</td>\n",
       "      <td>STAFF MEMBER</td>\n",
       "      <td>54.0</td>\n",
       "      <td>54.0</td>\n",
       "    </tr>\n",
       "    <tr>\n",
       "      <th>2</th>\n",
       "      <td>request for payment 149290</td>\n",
       "      <td>Request Payment</td>\n",
       "      <td>2017-01-10 09:52:03+00:00</td>\n",
       "      <td>SYSTEM</td>\n",
       "      <td>87675.0</td>\n",
       "      <td>87621.0</td>\n",
       "    </tr>\n",
       "    <tr>\n",
       "      <th>3</th>\n",
       "      <td>request for payment 149290</td>\n",
       "      <td>Payment Handled</td>\n",
       "      <td>2017-01-12 16:31:32+00:00</td>\n",
       "      <td>SYSTEM</td>\n",
       "      <td>284444.0</td>\n",
       "      <td>196769.0</td>\n",
       "    </tr>\n",
       "    <tr>\n",
       "      <th>4</th>\n",
       "      <td>request for payment 149216</td>\n",
       "      <td>Request For Payment SUBMITTED by EMPLOYEE</td>\n",
       "      <td>2017-01-09 10:41:36+00:00</td>\n",
       "      <td>STAFF MEMBER</td>\n",
       "      <td>0.0</td>\n",
       "      <td>0.0</td>\n",
       "    </tr>\n",
       "  </tbody>\n",
       "</table>\n",
       "</div>"
      ],
      "text/plain": [
       "                      case_id  \\\n",
       "0  request for payment 149290   \n",
       "1  request for payment 149290   \n",
       "2  request for payment 149290   \n",
       "3  request for payment 149290   \n",
       "4  request for payment 149216   \n",
       "\n",
       "                                           activity  \\\n",
       "0         Request For Payment SUBMITTED by EMPLOYEE   \n",
       "1  Request For Payment FINAL_APPROVED by SUPERVISOR   \n",
       "2                                   Request Payment   \n",
       "3                                   Payment Handled   \n",
       "4         Request For Payment SUBMITTED by EMPLOYEE   \n",
       "\n",
       "                   timestamp      resource  accumulated_time  execution_time  \n",
       "0  2017-01-09 09:30:48+00:00  STAFF MEMBER               0.0             0.0  \n",
       "1  2017-01-09 09:31:42+00:00  STAFF MEMBER              54.0            54.0  \n",
       "2  2017-01-10 09:52:03+00:00        SYSTEM           87675.0         87621.0  \n",
       "3  2017-01-12 16:31:32+00:00        SYSTEM          284444.0        196769.0  \n",
       "4  2017-01-09 10:41:36+00:00  STAFF MEMBER               0.0             0.0  "
      ]
     },
     "execution_count": 5,
     "metadata": {},
     "output_type": "execute_result"
    }
   ],
   "source": [
    "# pandas output and concating to original dataframe\n",
    "features = [\"accumulated_time\", \"execution_time\"]\n",
    "t = TimestampExtractor(features=features)\n",
    "train[features] = t.fit_transform(train)\n",
    "train.head()"
   ]
  }
 ],
 "metadata": {
  "kernelspec": {
   "display_name": "skpm",
   "language": "python",
   "name": "python3"
  },
  "language_info": {
   "codemirror_mode": {
    "name": "ipython",
    "version": 3
   },
   "file_extension": ".py",
   "mimetype": "text/x-python",
   "name": "python",
   "nbconvert_exporter": "python",
   "pygments_lexer": "ipython3",
   "version": "3.10.12"
  },
  "orig_nbformat": 4
 },
 "nbformat": 4,
 "nbformat_minor": 2
}
